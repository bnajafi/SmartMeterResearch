{
 "cells": [
  {
   "cell_type": "code",
   "execution_count": 39,
   "metadata": {
    "collapsed": false
   },
   "outputs": [],
   "source": [
    "import boto3\n",
    "import psycopg2\n",
    "import botocore\n",
    "import os\n",
    "import pandas as pd\n",
    "import numpy as np\n",
    "import matplotlib.pyplot as plt\n",
    "import seaborn as sns\n",
    "sns.set_style('white')\n",
    "%matplotlib inline"
   ]
  },
  {
   "cell_type": "code",
   "execution_count": 84,
   "metadata": {
    "collapsed": false
   },
   "outputs": [],
   "source": [
    "AWS_ACCESS_KEY_ID = os.environ['AWS_ACCESS_KEY_ID']"
   ]
  },
  {
   "cell_type": "code",
   "execution_count": 85,
   "metadata": {
    "collapsed": true
   },
   "outputs": [],
   "source": [
    "AWS_SECRET_ACCESS_KEY = os.environ['AWS_SECRET_ACCESS_KEY']"
   ]
  },
  {
   "cell_type": "markdown",
   "metadata": {},
   "source": [
    "## AWS (S3, Redshift, Kinesis) + Databricks Spark = Real-time Smart Meter Analytics"
   ]
  },
  {
   "cell_type": "markdown",
   "metadata": {},
   "source": [
    "**Create S3 Bucket**"
   ]
  },
  {
   "cell_type": "code",
   "execution_count": 30,
   "metadata": {
    "collapsed": true
   },
   "outputs": [],
   "source": [
    "s3 = boto3.client('s3')"
   ]
  },
  {
   "cell_type": "code",
   "execution_count": 45,
   "metadata": {
    "collapsed": false
   },
   "outputs": [
    {
     "data": {
      "text/plain": [
       "{u'Buckets': [{u'CreationDate': datetime.datetime(2016, 1, 26, 1, 47, 19, tzinfo=tzutc()),\n",
       "   u'Name': 'doug62890'},\n",
       "  {u'CreationDate': datetime.datetime(2015, 6, 5, 7, 3, 45, tzinfo=tzutc()),\n",
       "   u'Name': 'elasticbeanstalk-us-west-2-473548050994'},\n",
       "  {u'CreationDate': datetime.datetime(2016, 3, 7, 2, 45, 37, tzinfo=tzutc()),\n",
       "   u'Name': 'pecanstreetresearch-2016'}],\n",
       " u'Owner': {u'DisplayName': 'dkelly628',\n",
       "  u'ID': 'bda9f00a638e7c5c17498b033a6ce34b124be90c6ae542abc73a64f4d56f1913'},\n",
       " 'ResponseMetadata': {'HTTPStatusCode': 200,\n",
       "  'HostId': 'tvKe4ptiqACT0S0ZzK6+LpC36DZt2oLwSB/v8NHI7bs3smVkTQ6MkR+OQXspINn1',\n",
       "  'RequestId': 'DFAFD1582C9475BF'}}"
      ]
     },
     "execution_count": 45,
     "metadata": {},
     "output_type": "execute_result"
    }
   ],
   "source": [
    "s3.list_buckets()"
   ]
  },
  {
   "cell_type": "code",
   "execution_count": 76,
   "metadata": {
    "collapsed": false
   },
   "outputs": [],
   "source": [
    "def create_s3_bucket(bucketname):\n",
    "    \"\"\"Quick method to create bucket with exception handling\"\"\"\n",
    "    s3 = boto3.resource('s3')\n",
    "    exists = True\n",
    "    bucket = s3.Bucket(bucketname)\n",
    "    try:\n",
    "        s3.meta.client.head_bucket(Bucket=bucketname)\n",
    "    except botocore.exceptions.ClientError as e:\n",
    "        error_code = int(e.response['Error']['Code'])\n",
    "        if error_code == 404:\n",
    "            exists = False\n",
    "    if exists:\n",
    "        print 'Bucket {} already exists'.format(bucketname)\n",
    "    else:\n",
    "        s3.create_bucket(Bucket=bucketname, GrantFullControl='dkelly628')"
   ]
  },
  {
   "cell_type": "code",
   "execution_count": 77,
   "metadata": {
    "collapsed": false
   },
   "outputs": [
    {
     "name": "stdout",
     "output_type": "stream",
     "text": [
      "Bucket pecanstreetresearch-2016 already exists\n"
     ]
    }
   ],
   "source": [
    "create_s3_bucket('pecanstreetresearch-2016')"
   ]
  },
  {
   "cell_type": "markdown",
   "metadata": {},
   "source": [
    "**Copy Postgres to S3 via Postgres dump to CSV and s3cmd upload**"
   ]
  },
  {
   "cell_type": "code",
   "execution_count": null,
   "metadata": {
    "collapsed": true
   },
   "outputs": [],
   "source": [
    "# Note: Used s3cmd tools because awscli tools not working in conda env"
   ]
  },
  {
   "cell_type": "code",
   "execution_count": 89,
   "metadata": {
    "collapsed": false
   },
   "outputs": [],
   "source": [
    "# 14m rows or ~ 1.2 GB local unzipped; 10min write to CSV and another 10min to upload to S3\n",
    "# !s3cmd put ~/Users/Doug/PecanStreet/electricity-03-06-2016.csv s3://pecanstreetresearch-2016/electricity-03-06-2016.csv"
   ]
  },
  {
   "cell_type": "code",
   "execution_count": 91,
   "metadata": {
    "collapsed": false
   },
   "outputs": [],
   "source": [
    "# 200k rows ~ 15 MB local unzipped; 30 sec write to CSV and 15 sec upload to S3\n",
    "# !s3cmd put ~/Users/Doug/PecanStreet/weather-03-06-2016.csv s3://pecanstreetresearch-2016/weather-03-06-2016.csv"
   ]
  },
  {
   "cell_type": "markdown",
   "metadata": {},
   "source": [
    "### Amazon Redshift: NoSQL Columnar Data Warehouse"
   ]
  },
  {
   "cell_type": "markdown",
   "metadata": {},
   "source": [
    "**Quick data cleanup before ETL**"
   ]
  },
  {
   "cell_type": "code",
   "execution_count": 93,
   "metadata": {
    "collapsed": true
   },
   "outputs": [],
   "source": [
    "# Quick geohashing before uploading to Redshift\n",
    "weather_df = pd.read_csv('/Users/Doug/PecanStreet/weather_03-06-2016.csv')"
   ]
  },
  {
   "cell_type": "code",
   "execution_count": 143,
   "metadata": {
    "collapsed": false
   },
   "outputs": [
    {
     "data": {
      "text/html": [
       "<div>\n",
       "<table border=\"1\" class=\"dataframe\">\n",
       "  <thead>\n",
       "    <tr style=\"text-align: right;\">\n",
       "      <th></th>\n",
       "      <th></th>\n",
       "      <th></th>\n",
       "      <th>localhour</th>\n",
       "      <th>temperature</th>\n",
       "    </tr>\n",
       "    <tr>\n",
       "      <th>latitude</th>\n",
       "      <th>longitude</th>\n",
       "      <th>city</th>\n",
       "      <th></th>\n",
       "      <th></th>\n",
       "    </tr>\n",
       "  </thead>\n",
       "  <tbody>\n",
       "    <tr>\n",
       "      <th>30.292432</th>\n",
       "      <th>-97.699662</th>\n",
       "      <th>Austin</th>\n",
       "      <td>45336</td>\n",
       "      <td>45336</td>\n",
       "    </tr>\n",
       "    <tr>\n",
       "      <th>32.778033</th>\n",
       "      <th>-117.151885</th>\n",
       "      <th>San Diego</th>\n",
       "      <td>45384</td>\n",
       "      <td>45384</td>\n",
       "    </tr>\n",
       "    <tr>\n",
       "      <th>40.027278</th>\n",
       "      <th>-105.256111</th>\n",
       "      <th>Boulder</th>\n",
       "      <td>45384</td>\n",
       "      <td>45384</td>\n",
       "    </tr>\n",
       "  </tbody>\n",
       "</table>\n",
       "</div>"
      ],
      "text/plain": [
       "                                 localhour  temperature\n",
       "latitude  longitude   city                             \n",
       "30.292432 -97.699662  Austin         45336        45336\n",
       "32.778033 -117.151885 San Diego      45384        45384\n",
       "40.027278 -105.256111 Boulder        45384        45384"
      ]
     },
     "execution_count": 143,
     "metadata": {},
     "output_type": "execute_result"
    }
   ],
   "source": [
    "weather_df.groupby(['latitude', 'longitude', 'city']).count()"
   ]
  },
  {
   "cell_type": "code",
   "execution_count": null,
   "metadata": {
    "collapsed": true
   },
   "outputs": [],
   "source": [
    "weather_df['city'] = weather_df['Austin' if weather_df.latitude=30.292432 elif '']"
   ]
  },
  {
   "cell_type": "code",
   "execution_count": 105,
   "metadata": {
    "collapsed": true
   },
   "outputs": [],
   "source": [
    "weather_df['city'] = 'city'"
   ]
  },
  {
   "cell_type": "code",
   "execution_count": 116,
   "metadata": {
    "collapsed": false
   },
   "outputs": [
    {
     "data": {
      "text/plain": [
       "array(['Austin', 'Boulder', 'San Diego'], dtype=object)"
      ]
     },
     "execution_count": 116,
     "metadata": {},
     "output_type": "execute_result"
    }
   ],
   "source": [
    "weather_df.city.unique()"
   ]
  },
  {
   "cell_type": "code",
   "execution_count": 117,
   "metadata": {
    "collapsed": false
   },
   "outputs": [],
   "source": [
    "# weather_df['city'][weather_df.latitude==40.027278] = 'Boulder'"
   ]
  },
  {
   "cell_type": "code",
   "execution_count": 142,
   "metadata": {
    "collapsed": false
   },
   "outputs": [],
   "source": [
    "weather_df.to_csv('/Users/Doug/PecanStreet/weather-03-07-2016.csv', index=False)"
   ]
  },
  {
   "cell_type": "code",
   "execution_count": 120,
   "metadata": {
    "collapsed": true
   },
   "outputs": [],
   "source": [
    "metadata_df = pd.read_csv('/Users/Doug/PecanStreet/dataport-metadata.csv')"
   ]
  },
  {
   "cell_type": "code",
   "execution_count": 127,
   "metadata": {
    "collapsed": false
   },
   "outputs": [],
   "source": [
    "metadata_df = metadata_df[['dataid','city', 'state']]"
   ]
  },
  {
   "cell_type": "code",
   "execution_count": 137,
   "metadata": {
    "collapsed": true
   },
   "outputs": [],
   "source": [
    "metadata_df.to_csv('/Users/Doug/PecanStreet/metadata.csv', index=False)"
   ]
  },
  {
   "cell_type": "code",
   "execution_count": null,
   "metadata": {
    "collapsed": true
   },
   "outputs": [],
   "source": [
    "# !s3cmd put metadata.csv s3://pecanstreetresearch-2016/metadata/metadata.csv"
   ]
  },
  {
   "cell_type": "code",
   "execution_count": 129,
   "metadata": {
    "collapsed": true
   },
   "outputs": [],
   "source": [
    "redshift = boto3.client('redshift')"
   ]
  },
  {
   "cell_type": "code",
   "execution_count": 132,
   "metadata": {
    "collapsed": false
   },
   "outputs": [],
   "source": [
    "# redshift.describe_clusters()"
   ]
  },
  {
   "cell_type": "code",
   "execution_count": null,
   "metadata": {
    "collapsed": true
   },
   "outputs": [],
   "source": [
    "# psql -h pecanstreet.czxmxphrw2wv.us-east-1.redshift.amazonaws.com -U dkelly628 -d electricity -p 5439"
   ]
  },
  {
   "cell_type": "markdown",
   "metadata": {},
   "source": [
    "create table electricity (\n",
    "dataid integer not null,\n",
    "localhour timestamp not null distkey sortkey,\n",
    "use decimal(30,26),\n",
    "air1 decimal(30,26),\n",
    "furnace1 decimal(30,26),\n",
    "car1 decimal(30,26)\n",
    ");\n",
    "\n",
    "create table weather (\n",
    "localhour timestamp not null distkey sortkey,\n",
    "latitude decimal(30,26),\n",
    "longitude decimal(30,26),\n",
    "temperature decimal(30,26),\n",
    "city varchar(20)\n",
    ");\n",
    "\n",
    "create table metadata (\n",
    "dataid integer distkey sortkey,\n",
    "city varchar(20),\n",
    "state varchar(20)\n",
    ");"
   ]
  },
  {
   "cell_type": "code",
   "execution_count": null,
   "metadata": {
    "collapsed": true
   },
   "outputs": [],
   "source": [
    "# Complete\n",
    "COPY electricity \n",
    "FROM 's3://pecanstreetresearch-2016/electricity/electricity-03-06-2016.csv'\n",
    "CREDENTIALS 'aws_access_key_id=AWS_ACCESS_KEY_ID;aws_secret_access_key=AWS_SECRET_ACCESS_KEY'\n",
    "CSV\n",
    "IGNOREHEADER 1\n",
    "dateformat 'auto';"
   ]
  },
  {
   "cell_type": "code",
   "execution_count": null,
   "metadata": {
    "collapsed": true
   },
   "outputs": [],
   "source": [
    "# Complete\n",
    "\n",
    "COPY weather\n",
    "FROM 's3://pecanstreetresearch-2016/weather/weather-03-06-2016.csv'\n",
    "CREDENTIALS 'aws_access_key_id=AWS_ACCESS_KEY_ID;aws_secret_access_key=AWS_SECRET_ACCESS_KEY'\n",
    "CSV\n",
    "IGNOREHEADER 1\n",
    "dateformat 'auto';"
   ]
  },
  {
   "cell_type": "code",
   "execution_count": null,
   "metadata": {
    "collapsed": true
   },
   "outputs": [],
   "source": [
    "# Complete\n",
    "\n",
    "COPY metadata \n",
    "FROM 's3://pecanstreetresearch-2016/metadata/metadata.csv'\n",
    "CREDENTIALS 'aws_access_key_id=AWS_ACCESS_KEY_ID;aws_secret_access_key=AWS_SECRET_ACCESS_KEY'\n",
    "CSV \n",
    "IGNOREHEADER 1;"
   ]
  },
  {
   "cell_type": "code",
   "execution_count": null,
   "metadata": {
    "collapsed": true
   },
   "outputs": [],
   "source": [
    "# Query for checking error log; invaluable\n",
    "\n",
    "select query, substring(filename,22,25) as filename,line_number as line, \n",
    "substring(colname,0,12) as column, type, position as pos, substring(raw_line,0,30) as line_text,\n",
    "substring(raw_field_value,0,15) as field_text, \n",
    "substring(err_reason,0,45) as reason\n",
    "from stl_load_errors \n",
    "order by query desc\n",
    "limit 10;"
   ]
  },
  {
   "cell_type": "code",
   "execution_count": null,
   "metadata": {
    "collapsed": true
   },
   "outputs": [],
   "source": [
    "# All table definitions are stored in pg_table_def table; different from Postgres\n",
    "\n",
    "SELECT DISTINCT tablename\n",
    "FROM pg_table_def\n",
    "WHERE schemaname = 'public'\n",
    "ORDER BY tablename;"
   ]
  },
  {
   "cell_type": "code",
   "execution_count": null,
   "metadata": {
    "collapsed": true
   },
   "outputs": [],
   "source": [
    "# Returns household, time, city, usage by hour, and temperature for all residents in Austin, TX\n",
    "\n",
    "SELECT e.dataid, e.localhour, m.city, SUM(e.use), w.temperature\n",
    "FROM electricity AS e\n",
    "JOIN weather AS w ON e.localhour = w.localhour\n",
    "JOIN metadata AS m ON e.dataid = m.dataid \n",
    "WHERE m.city = 'Austin'\n",
    "GROUP BY e.dataid, e.localhour, m.city, w.temperature;"
   ]
  },
  {
   "cell_type": "code",
   "execution_count": null,
   "metadata": {
    "collapsed": true
   },
   "outputs": [],
   "source": [
    "# Returns number of participants by city, state\n",
    "\n",
    "SELECT m.city, m.state, COUNT(e.dataid) AS participants\n",
    "FROM electricity AS e\n",
    "JOIN metadata AS m ON e.dataid = m.dataid\n",
    "GROUP BY m.city, m.state;"
   ]
  },
  {
   "cell_type": "code",
   "execution_count": 29,
   "metadata": {
    "collapsed": false
   },
   "outputs": [],
   "source": [
    "# Setup connection to Pecan Street Dataport\n",
    "try:\n",
    "conn = psycopg2.connect(\"dbname='electricity' user='dkelly628' host='pecanstreet.czxmxphrw2wv.us-east-1.redshift.amazonaws.com' port='5439' password='password'\")\n",
    "except:\n",
    "#     print \"Error: Check there aren't any open connections in notebook or pgAdmin\""
   ]
  },
  {
   "cell_type": "code",
   "execution_count": 33,
   "metadata": {
    "collapsed": false
   },
   "outputs": [],
   "source": [
    "electricity_df = pd.read_sql(\"SELECT localhour, SUM(use) AS usage, SUM(air1) AS cooling, SUM(furnace1) AS heating, \\\n",
    "                             SUM(car1) AS electric_vehicle \\\n",
    "                             FROM electricity \\\n",
    "                             WHERE dataid = 7982 AND use > 0  \\\n",
    "                             AND localhour BETWEEN '2013-10-16 00:00:00'::timestamp AND \\\n",
    "                             '2016-02-26 08:00:00'::timestamp \\\n",
    "                             GROUP BY dataid, localhour \\\n",
    "                             ORDER BY localhour\", conn)"
   ]
  },
  {
   "cell_type": "code",
   "execution_count": 41,
   "metadata": {
    "collapsed": true
   },
   "outputs": [],
   "source": [
    "electricity_df['localhour'] = electricity_df.localhour.apply(pd.to_datetime)"
   ]
  },
  {
   "cell_type": "code",
   "execution_count": 42,
   "metadata": {
    "collapsed": true
   },
   "outputs": [],
   "source": [
    "electricity_df.set_index('localhour', inplace=True)"
   ]
  },
  {
   "cell_type": "code",
   "execution_count": 43,
   "metadata": {
    "collapsed": true
   },
   "outputs": [],
   "source": [
    "electricity_df.fillna(value=0.0, inplace=True)"
   ]
  },
  {
   "cell_type": "code",
   "execution_count": 48,
   "metadata": {
    "collapsed": false
   },
   "outputs": [
    {
     "data": {
      "image/png": "[encoded data removed]",
      "text/plain": [
       "<matplotlib.figure.Figure at 0x115e5e890>"
      ]
     },
     "metadata": {},
     "output_type": "display_data"
    }
   ],
   "source": [
    "electricity_df[['usage','cooling']].plot(figsize=(18,9), title=\"Pecan Street Household 7982 Hourly Energy Consumption\")\n",
    "sns.despine();"
   ]
  },
  {
   "cell_type": "markdown",
   "metadata": {},
   "source": [
    "**Databricks Spark Analysis (see Databricks): Batch analytics on S3, Streaming using Amazon Kinesis Stream**"
   ]
  },
  {
   "cell_type": "code",
   "execution_count": null,
   "metadata": {
    "collapsed": true
   },
   "outputs": [],
   "source": []
  },
  {
   "cell_type": "markdown",
   "metadata": {},
   "source": [
    "**Create Amazon Kinesis Stream for writing streaming data to S3**"
   ]
  },
  {
   "cell_type": "code",
   "execution_count": 4,
   "metadata": {
    "collapsed": false
   },
   "outputs": [],
   "source": [
    "kinesis = boto3.client('kinesis')"
   ]
  },
  {
   "cell_type": "code",
   "execution_count": 6,
   "metadata": {
    "collapsed": false
   },
   "outputs": [
    {
     "data": {
      "text/plain": [
       "{'ResponseMetadata': {'HTTPStatusCode': 200,\n",
       "  'RequestId': '781fb4dd-e57b-11e5-93df-217b85429719'}}"
      ]
     },
     "execution_count": 6,
     "metadata": {},
     "output_type": "execute_result"
    }
   ],
   "source": [
    "kinesis.create_stream(StreamName='PecanStreet', ShardCount=2)"
   ]
  },
  {
   "cell_type": "code",
   "execution_count": 7,
   "metadata": {
    "collapsed": false
   },
   "outputs": [
    {
     "data": {
      "text/plain": [
       "{u'HasMoreStreams': False,\n",
       " 'ResponseMetadata': {'HTTPStatusCode': 200,\n",
       "  'RequestId': '799b314f-e57b-11e5-93df-217b85429719'},\n",
       " u'StreamNames': [u'PecanStreet']}"
      ]
     },
     "execution_count": 7,
     "metadata": {},
     "output_type": "execute_result"
    }
   ],
   "source": [
    "kinesis.list_streams()"
   ]
  },
  {
   "cell_type": "code",
   "execution_count": 9,
   "metadata": {
    "collapsed": true
   },
   "outputs": [],
   "source": [
    "firehose = boto3.client('firehose')"
   ]
  },
  {
   "cell_type": "code",
   "execution_count": null,
   "metadata": {
    "collapsed": true
   },
   "outputs": [],
   "source": [
    "# firehose.create_delivery_stream(DeliveryStreamName='pecanstreetfirehose', S3DestinationConfiguration={'RoleARN': '', 'BucketARN': 'pecanstreetresearch-2016'})"
   ]
  },
  {
   "cell_type": "code",
   "execution_count": 36,
   "metadata": {
    "collapsed": false
   },
   "outputs": [
    {
     "data": {
      "text/plain": [
       "{u'DeliveryStreamNames': [u'pecanstreet'],\n",
       " u'HasMoreDeliveryStreams': False,\n",
       " 'ResponseMetadata': {'HTTPStatusCode': 200,\n",
       "  'RequestId': 'b81a3d77-e580-11e5-8bde-6ffb1b8f5a35'}}"
      ]
     },
     "execution_count": 36,
     "metadata": {},
     "output_type": "execute_result"
    }
   ],
   "source": [
    "firehose.list_delivery_streams()"
   ]
  },
  {
   "cell_type": "code",
   "execution_count": null,
   "metadata": {
    "collapsed": true
   },
   "outputs": [],
   "source": [
    "def kinesis_write(stream, ):\n",
    "    \"\"\"Method that writes to kinesis stream\"\"\"\n",
    "    kinesis = boto3.client('kinesis')\n",
    "    kinesis.put(StreamName=stream, )"
   ]
  },
  {
   "cell_type": "code",
   "execution_count": null,
   "metadata": {
    "collapsed": true
   },
   "outputs": [],
   "source": [
    "def kinesis_read():\n",
    "    \"\"\"Method to read from kinesis stream\"\"\""
   ]
  }
 ],
 "metadata": {
  "kernelspec": {
   "display_name": "Python 2",
   "language": "python",
   "name": "python2"
  },
  "language_info": {
   "codemirror_mode": {
    "name": "ipython",
    "version": 2
   },
   "file_extension": ".py",
   "mimetype": "text/x-python",
   "name": "python",
   "nbconvert_exporter": "python",
   "pygments_lexer": "ipython2",
   "version": "2.7.11"
  }
 },
 "nbformat": 4,
 "nbformat_minor": 0
}
